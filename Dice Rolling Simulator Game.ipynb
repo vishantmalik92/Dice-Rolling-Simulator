{
 "cells": [
  {
   "cell_type": "markdown",
   "id": "a26a3c93",
   "metadata": {},
   "source": [
    "# Hello Guys this is my first ever small machine learning project on Dice Rolling Simulator.Where I will try to find out that as soon as I throw the dice, which number will come out, so lets see"
   ]
  },
  {
   "cell_type": "code",
   "execution_count": 1,
   "id": "96b77b57",
   "metadata": {},
   "outputs": [
    {
     "name": "stdout",
     "output_type": "stream",
     "text": [
      "Would you like to roll the dice [y/n]?\n",
      "y\n",
      "5\n",
      "Would you like to roll the dice [y/n]?\n",
      "y\n",
      "4\n",
      "Would you like to roll the dice [y/n]?\n",
      "y\n",
      "1\n",
      "Would you like to roll the dice [y/n]?\n",
      "y\n",
      "6\n",
      "Would you like to roll the dice [y/n]?\n",
      "n\n",
      "Good-bye!\n"
     ]
    }
   ],
   "source": [
    "import random\n",
    "\n",
    "question = input('Would you like to roll the dice [y/n]?\\n')\n",
    "\n",
    "while question != 'n':\n",
    "    if question == 'y':\n",
    "        die = random.randint(1, 6)\n",
    "        print(die)\n",
    "        question = input('Would you like to roll the dice [y/n]?\\n')\n",
    "    else:\n",
    "        print('Invalid response. Please type \"y\" or \"n\".')  \n",
    "\n",
    "print('Good-bye!')"
   ]
  },
  {
   "cell_type": "markdown",
   "id": "b061e519",
   "metadata": {},
   "source": [
    "# End Result <<<<<<<<<<<<<<<<<<<<<<<<<<<<<<<<<<"
   ]
  },
  {
   "cell_type": "code",
   "execution_count": null,
   "id": "42ae78a3",
   "metadata": {},
   "outputs": [],
   "source": []
  }
 ],
 "metadata": {
  "kernelspec": {
   "display_name": "Python 3",
   "language": "python",
   "name": "python3"
  },
  "language_info": {
   "codemirror_mode": {
    "name": "ipython",
    "version": 3
   },
   "file_extension": ".py",
   "mimetype": "text/x-python",
   "name": "python",
   "nbconvert_exporter": "python",
   "pygments_lexer": "ipython3",
   "version": "3.8.8"
  }
 },
 "nbformat": 4,
 "nbformat_minor": 5
}
